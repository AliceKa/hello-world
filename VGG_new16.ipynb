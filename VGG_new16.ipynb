{
  "nbformat": 4,
  "nbformat_minor": 0,
  "metadata": {
    "colab": {
      "name": "VGG_new16 ",
      "version": "0.3.2",
      "provenance": [],
      "include_colab_link": true
    },
    "kernelspec": {
      "name": "python3",
      "display_name": "Python 3"
    },
    "accelerator": "GPU"
  },
  "cells": [
    {
      "cell_type": "markdown",
      "metadata": {
        "id": "view-in-github",
        "colab_type": "text"
      },
      "source": [
        "<a href=\"https://colab.research.google.com/github/AliceKa/hello-world/blob/master/VGG_new16.ipynb\" target=\"_parent\"><img src=\"https://colab.research.google.com/assets/colab-badge.svg\" alt=\"Open In Colab\"/></a>"
      ]
    },
    {
      "metadata": {
        "id": "fG_4kWCkPhdB",
        "colab_type": "code",
        "outputId": "871f10d5-2d78-4fc6-9d94-bd0c2752974a",
        "colab": {
          "base_uri": "https://localhost:8080/",
          "height": 187
        }
      },
      "cell_type": "code",
      "source": [
        "!pip install PyDrive\n",
        "import os\n",
        "from pydrive.auth import GoogleAuth\n",
        "from pydrive.drive import GoogleDrive\n",
        "from google.colab import auth\n",
        "from oauth2client.client import GoogleCredentials"
      ],
      "execution_count": 2,
      "outputs": [
        {
          "output_type": "stream",
          "text": [
            "Requirement already satisfied: PyDrive in /usr/local/lib/python3.6/dist-packages (1.3.1)\n",
            "Requirement already satisfied: PyYAML>=3.0 in /usr/local/lib/python3.6/dist-packages (from PyDrive) (3.13)\n",
            "Requirement already satisfied: google-api-python-client>=1.2 in /usr/local/lib/python3.6/dist-packages (from PyDrive) (1.6.7)\n",
            "Requirement already satisfied: oauth2client>=4.0.0 in /usr/local/lib/python3.6/dist-packages (from PyDrive) (4.1.3)\n",
            "Requirement already satisfied: uritemplate<4dev,>=3.0.0 in /usr/local/lib/python3.6/dist-packages (from google-api-python-client>=1.2->PyDrive) (3.0.0)\n",
            "Requirement already satisfied: httplib2<1dev,>=0.9.2 in /usr/local/lib/python3.6/dist-packages (from google-api-python-client>=1.2->PyDrive) (0.11.3)\n",
            "Requirement already satisfied: six<2dev,>=1.6.1 in /usr/local/lib/python3.6/dist-packages (from google-api-python-client>=1.2->PyDrive) (1.11.0)\n",
            "Requirement already satisfied: pyasn1-modules>=0.0.5 in /usr/local/lib/python3.6/dist-packages (from oauth2client>=4.0.0->PyDrive) (0.2.4)\n",
            "Requirement already satisfied: pyasn1>=0.1.7 in /usr/local/lib/python3.6/dist-packages (from oauth2client>=4.0.0->PyDrive) (0.4.5)\n",
            "Requirement already satisfied: rsa>=3.1.4 in /usr/local/lib/python3.6/dist-packages (from oauth2client>=4.0.0->PyDrive) (4.0)\n"
          ],
          "name": "stdout"
        }
      ]
    },
    {
      "metadata": {
        "id": "cxtdmlJXvZ3N",
        "colab_type": "code",
        "colab": {}
      },
      "cell_type": "code",
      "source": [
        "auth.authenticate_user()\n",
        "gauth = GoogleAuth()\n",
        "gauth.credentials = GoogleCredentials.get_application_default()\n",
        "drive = GoogleDrive(gauth)"
      ],
      "execution_count": 0,
      "outputs": []
    },
    {
      "metadata": {
        "id": "2IYEQTTOv4Ib",
        "colab_type": "code",
        "colab": {}
      },
      "cell_type": "code",
      "source": [
        "download = drive.CreateFile({'id': '1UbVE0_WzBkPsqFzBboTiFgxVwl2nufJc'})\n",
        "download.GetContentFile('DOWNLOAD1.zip')"
      ],
      "execution_count": 0,
      "outputs": []
    },
    {
      "metadata": {
        "id": "rcxsnH_RNhG5",
        "colab_type": "code",
        "outputId": "d5d31ee1-9a16-4892-d94d-c920d0b8dea1",
        "colab": {
          "base_uri": "https://localhost:8080/",
          "height": 34
        }
      },
      "cell_type": "code",
      "source": [
        "len(open('media/train.txt').readlines())"
      ],
      "execution_count": 5,
      "outputs": [
        {
          "output_type": "execute_result",
          "data": {
            "text/plain": [
              "117263"
            ]
          },
          "metadata": {
            "tags": []
          },
          "execution_count": 5
        }
      ]
    },
    {
      "metadata": {
        "id": "1KO1Ag78l--I",
        "colab_type": "code",
        "outputId": "99ea30a5-c455-4a22-af0e-96b9c2973a83",
        "colab": {
          "base_uri": "https://localhost:8080/",
          "height": 34
        }
      },
      "cell_type": "code",
      "source": [
        "list_of_image_names = [string.split()[0] for string in open('media/train.txt','r').readlines()]\n",
        "list_of_image_labels = [string.split()[1] for string in open('media/train.txt','r').readlines()]\n",
        "len(list_of_image_labels)/3026"
      ],
      "execution_count": 1,
      "outputs": [
        {
          "output_type": "execute_result",
          "data": {
            "text/plain": [
              "38.75181758096497"
            ]
          },
          "metadata": {
            "tags": []
          },
          "execution_count": 1
        }
      ]
    },
    {
      "metadata": {
        "id": "7b80kUIiNjIv",
        "colab_type": "code",
        "colab": {}
      },
      "cell_type": "code",
      "source": [
        "import numpy as np\n",
        "import cv2\n",
        "import matplotlib.pyplot as plt\n",
        "import h5py\n",
        "import tensorflow as tf\n",
        "import numpy as np\n",
        "import h5py\n",
        "import math\n",
        "import time\n",
        "from random import shuffle\n",
        "import matplotlib.pyplot as plt\n",
        "from tensorflow.contrib.layers import fully_connected, l2_regularizer\n",
        "from tensorflow.contrib.framework import arg_scope\n",
        "from sklearn.preprocessing import MinMaxScaler\n",
        "\n",
        "%matplotlib inline"
      ],
      "execution_count": 0,
      "outputs": []
    },
    {
      "metadata": {
        "id": "uqU_M0YXUYBY",
        "colab_type": "code",
        "colab": {}
      },
      "cell_type": "code",
      "source": [
        "def normalize_and_write_data_into_h5_file(dest_filepath, filepaths_list, n_px, n_channels = 3):\n",
        "    \n",
        "    '''\n",
        "        This function converts images to numpy arrays and writes the array data into a h5 file.\n",
        "        \n",
        "        dest_filepath - the name of the file with full path that is being created\n",
        "        filepaths_list - source image file paths which is being converted to numpy arrays\n",
        "        n_px - number of pixels - will be used as image's height and width\n",
        "        n_channels - 3 for rgb\n",
        "    '''\n",
        "    \n",
        "    data_shape = (len(filepaths_list), n_px * n_px * n_channels)\n",
        "    dataset_name = \"input_data\"\n",
        "    \n",
        "    with h5py.File(dest_filepath, 'w') as f:\n",
        "        \n",
        "        f.create_dataset('input_data', data_shape, np.float32)\n",
        "        \n",
        "        for i in range(len(filepaths_list)):\n",
        "            #if (i+1) % 512 == 0:\n",
        "            #    print('{}/{} files converted'.format((i+1), len(filepaths_list)))\n",
        "\n",
        "            filepath = filepaths_list[i]\n",
        "            img = cv2.imread('media/'+filepath)\n",
        "            #img = cv2.resize(img, (n_px, n_px), interpolation=cv2.INTER_CUBIC)\n",
        "            #img = cv2.cvtColor(img, cv2.COLOR_BGR2RGB)\n",
        "            \n",
        "            #Normalize the image - convert the each pixel value between 0 and 1\n",
        "            img = img / 255\n",
        "            #Reshape the image - roll it up into a column vector\n",
        "            img = img.ravel()\n",
        "            \n",
        "            #img[None] makes it a proper array instead of rank 1 array\n",
        "            f[dataset_name][i, ...] = img[None]"
      ],
      "execution_count": 0,
      "outputs": []
    },
    {
      "metadata": {
        "id": "l48dg6QrU3xY",
        "colab_type": "code",
        "colab": {}
      },
      "cell_type": "code",
      "source": [
        "def write_labels_into_h5_file(dest_filepath, labels):\n",
        "    \n",
        "    dataset_name = \"input_labels\"\n",
        "    labels = np.array(labels, dtype=np.int8)\n",
        "    with h5py.File(dest_filepath, 'a') as f:            \n",
        "        f.create_dataset('input_labels', (len(labels),), np.int8)\n",
        "        f[dataset_name][...] = labels"
      ],
      "execution_count": 0,
      "outputs": []
    },
    {
      "metadata": {
        "id": "Vj8Qly4LU7-i",
        "colab_type": "code",
        "colab": {}
      },
      "cell_type": "code",
      "source": [
        "def convert_images_to_data_in_h5_file(dest_h5_file_path, n_px, \n",
        "                                      n_channels = 3, batch_size = 3024):\n",
        "    \n",
        "    #Returns a list of filepaths matching the pattern given as parameter\n",
        "    src_filepaths = list_of_image_names\n",
        "    \n",
        "    #Create Labels based upon the substring contained in the filename\n",
        "    labels = list_of_image_labels\n",
        "    \n",
        "    \n",
        "    #The zip(source_filepaths, labels) combines each element of source_filepaths list \n",
        "    #with each element of labels list forming a pair (tuple). t is the list which contains these tuples\n",
        "    t = list(zip(src_filepaths, labels))\n",
        "\n",
        "    #Shuffle the list\n",
        "    shuffle(t)\n",
        "    \n",
        "    #Get the shuffled filepaths & labels\n",
        "    src_filepaths, labels = zip(*t)\n",
        "    \n",
        "    #Number of images\n",
        "    m = len(src_filepaths) \n",
        "    n_complete_batches = math.ceil(m / batch_size)\n",
        "    \n",
        "    for i in range(2):\n",
        "        print('Creating file', (i+1))\n",
        "        \n",
        "        dest_file_path = str(dest_h5_file_path) + str(i + 1) + \".h5\"  \n",
        "        \n",
        "        start_pos = i * batch_size\n",
        "        end_pos = min(start_pos + batch_size, m)\n",
        "        src_filepaths_batch = src_filepaths[start_pos: end_pos]\n",
        "        labels_batch = labels[start_pos: end_pos]\n",
        "        normalize_and_write_data_into_h5_file(dest_file_path, src_filepaths_batch, n_px)\n",
        "        write_labels_into_h5_file(dest_file_path, labels_batch)"
      ],
      "execution_count": 0,
      "outputs": []
    },
    {
      "metadata": {
        "id": "MZ6tpaod0dPR",
        "colab_type": "text"
      },
      "cell_type": "markdown",
      "source": [
        "H5py file creation https://github.com/selvam85/Cat-Dog-Classifier/blob/master/DNN_using_plain_TF_Cat_vs_Dog_classifier_Kaggle_dataset/Convert%20Images%20to%20Numpy%20array%20and%20save%20in%20h5%20fomat%20v2.1.ipynb\n",
        "\n",
        "Usage of batches in sess. https://github.com/selvam85/Cat-Dog-Classifier/blob/master/DNN_using_plain_TF_Cat_vs_Dog_classifier_Kaggle_dataset/DNN%20using%20plain%20TF%20-%20Cat%20vs%20Dog%20classifier_Colab%20file_v2.0.ipynb\n",
        "\n",
        "Explanation https://medium.com/@toselvam/how-to-work-with-large-training-dataset-in-google-colab-platform-c3499fc10c24\n",
        "\n",
        "Batch usage https://github.com/ghwatson/faststyle/blob/master/libs/vgg16.py"
      ]
    },
    {
      "metadata": {
        "id": "0wv_c10eVD-M",
        "colab_type": "code",
        "outputId": "22f32f42-4475-4469-9654-312455ac4992",
        "colab": {
          "base_uri": "https://localhost:8080/",
          "height": 68
        }
      },
      "cell_type": "code",
      "source": [
        "dest_filepath = 'train_set'\n",
        "n_px = 256\n",
        "n_channels = 3\n",
        "\n",
        "tic = time.process_time()\n",
        "convert_images_to_data_in_h5_file(dest_filepath, n_px, n_channels)\n",
        "toc = time.process_time()\n",
        "print('Time taken for creating the h5 file is', (toc-tic)*1000, 'ms')"
      ],
      "execution_count": 6,
      "outputs": [
        {
          "output_type": "stream",
          "text": [
            "Creating file 1\n",
            "Creating file 2\n",
            "Time taken for creating the h5 file is 21344.637015 ms\n"
          ],
          "name": "stdout"
        }
      ]
    },
    {
      "metadata": {
        "id": "56iRmVcDjTT2",
        "colab_type": "text"
      },
      "cell_type": "markdown",
      "source": [
        "Uploading the h5py files into Google Drive for the future usage "
      ]
    },
    {
      "metadata": {
        "id": "IUCoGPqsVMqL",
        "colab_type": "code",
        "outputId": "c4578aab-9127-422c-bcbe-4aba6dc4e56b",
        "colab": {
          "base_uri": "https://localhost:8080/",
          "height": 68
        }
      },
      "cell_type": "code",
      "source": [
        "destination_filepath = 'train_set1.h5'\n",
        "with h5py.File(destination_filepath, \"r\") as f:\n",
        "    \n",
        "    print(list(f.keys()))\n",
        "    \n",
        "    x = f[\"input_data\"][:]\n",
        "    y = f[\"input_labels\"][:]\n",
        "\n",
        "    print('x shape =', x.shape, '| y shape =', y.shape)\n",
        "    print('Number of classes presented =', len(set(y)))"
      ],
      "execution_count": 7,
      "outputs": [
        {
          "output_type": "stream",
          "text": [
            "['input_data', 'input_labels']\n",
            "x shape = (3024, 196608) | y shape = (3024,)\n",
            "Number of classes presented = 38\n"
          ],
          "name": "stdout"
        }
      ]
    },
    {
      "metadata": {
        "id": "lJOnlRGMVWwm",
        "colab_type": "code",
        "outputId": "0ba790e4-3ff6-4cd5-9c16-e9894819d8e4",
        "colab": {
          "base_uri": "https://localhost:8080/",
          "height": 303
        }
      },
      "cell_type": "code",
      "source": [
        "index = 0\n",
        "image = x[index]\n",
        "print(image.shape)\n",
        "image = (x[index]).reshape(256, 256, 3)\n",
        "#print(image)\n",
        "#print(image.shape)\n",
        "plt.imshow(image)\n",
        "print('y =', y[index])"
      ],
      "execution_count": 8,
      "outputs": [
        {
          "output_type": "stream",
          "text": [
            "(196608,)\n",
            "y = 37\n"
          ],
          "name": "stdout"
        },
        {
          "output_type": "display_data",
          "data": {
            "image/png": "[encoded data removed]",
            "text/plain": [
              "<Figure size 432x288 with 1 Axes>"
            ]
          },
          "metadata": {
            "tags": []
          }
        }
      ]
    },
    {
      "metadata": {
        "id": "1-wBBLw2md7T",
        "colab_type": "code",
        "colab": {
          "base_uri": "https://localhost:8080/",
          "height": 34
        },
        "outputId": "c073ca75-3017-4374-ba66-95e37cb2ba67"
      },
      "cell_type": "code",
      "source": [
        "len(set(y))"
      ],
      "execution_count": 9,
      "outputs": [
        {
          "output_type": "execute_result",
          "data": {
            "text/plain": [
              "38"
            ]
          },
          "metadata": {
            "tags": []
          },
          "execution_count": 9
        }
      ]
    },
    {
      "metadata": {
        "id": "U1dfn26WWyLC",
        "colab_type": "text"
      },
      "cell_type": "markdown",
      "source": [
        "###Second part of the assignment - VGG training with the h5 files created"
      ]
    },
    {
      "metadata": {
        "id": "o2rJZTS_XBNm",
        "colab_type": "code",
        "outputId": "5c3a4ae1-eebf-4181-d20a-2fa2d5184f3d",
        "colab": {
          "base_uri": "https://localhost:8080/",
          "height": 34
        }
      },
      "cell_type": "code",
      "source": [
        "import tensorflow as tf\n",
        "import numpy as np\n",
        "import h5py\n",
        "import math\n",
        "import time\n",
        "from random import shuffle\n",
        "import matplotlib.pyplot as plt\n",
        "from tensorflow.contrib.layers import fully_connected, l2_regularizer\n",
        "from tensorflow.contrib.framework import arg_scope\n",
        "from sklearn.preprocessing import MinMaxScaler\n",
        "from keras.utils import np_utils\n",
        "\n",
        "%matplotlib inline"
      ],
      "execution_count": 10,
      "outputs": [
        {
          "output_type": "stream",
          "text": [
            "Using TensorFlow backend.\n"
          ],
          "name": "stderr"
        }
      ]
    },
    {
      "metadata": {
        "id": "9NzNWB7sXJFI",
        "colab_type": "code",
        "colab": {}
      },
      "cell_type": "code",
      "source": [
        "def load_dataset():\n",
        "    \n",
        "    lmd_tic = time.time()\n",
        "    \n",
        "    X_full_dataset = []\n",
        "    Y_full_dataset = []\n",
        "    filename_prefix = 'train_set'\n",
        "    \n",
        "    for i in range(1, 3):\n",
        "        \n",
        "        filename = filename_prefix + str(i) + \".h5\"\n",
        "        with h5py.File(filename, \"r\") as f:\n",
        "    \n",
        "            X_full_dataset.append(f[\"input_data\"][:])\n",
        "            Y_full_dataset.append(f[\"input_labels\"][:])\n",
        "\n",
        "    lmd_toc = time.time()\n",
        "    print('Time taken to load the data set is', ((lmd_toc-lmd_tic) * 1000), 'ms')\n",
        "    \n",
        "    return X_full_dataset, Y_full_dataset"
      ],
      "execution_count": 0,
      "outputs": []
    },
    {
      "metadata": {
        "id": "OCrciZFnYIUZ",
        "colab_type": "code",
        "colab": {}
      },
      "cell_type": "code",
      "source": [
        "def get_shuffled_indices(start_value, last_value):\n",
        "    \n",
        "    temp = np.arange(start_value, last_value)\n",
        "    shuffle(temp)\n",
        "    \n",
        "    return temp"
      ],
      "execution_count": 0,
      "outputs": []
    },
    {
      "metadata": {
        "id": "v8J0ADEuzNHs",
        "colab_type": "code",
        "colab": {}
      },
      "cell_type": "code",
      "source": [
        "from keras.utils import to_categorical"
      ],
      "execution_count": 0,
      "outputs": []
    },
    {
      "metadata": {
        "id": "Kdrr6gXrYKmc",
        "colab_type": "code",
        "colab": {}
      },
      "cell_type": "code",
      "source": [
        "def create_random_mini_batches(X, Y, n_classes = 39, mini_batch_size = 32):\n",
        "    \n",
        "    m = X.shape[0] # number of training examples\n",
        "    mini_batches = []\n",
        "    \n",
        "    #Reshaping to convert Y to a 2D array from a rank one array\n",
        "    #Y = Y.reshape(Y.shape[0], 1)\n",
        "    Y = to_categorical(Y)\n",
        "    \n",
        "    #Shuffle the data in each of the mini batch\n",
        "    permutation = list(np.random.permutation(m))\n",
        "    shuffled_X = X[permutation, :]\n",
        "    shuffled_Y = Y[permutation, :]\n",
        "    \n",
        "    n_mini_batches = math.ceil(m / mini_batch_size) # number of mini batches of size mini_batch_size in your partitionning\n",
        "    for k in range(n_mini_batches):\n",
        "        \n",
        "        start_pos = k * mini_batch_size\n",
        "        end_pos = min(start_pos + mini_batch_size, m)\n",
        "        \n",
        "        mini_batch_X = shuffled_X[start_pos : end_pos, :]\n",
        "        mini_batch_Y = shuffled_Y[start_pos : end_pos, :]\n",
        "        \n",
        "        mini_batch = (mini_batch_X, mini_batch_Y)\n",
        "        mini_batches.append(mini_batch)\n",
        "    \n",
        "    return mini_batches"
      ],
      "execution_count": 0,
      "outputs": []
    },
    {
      "metadata": {
        "id": "bmrjuZK7cJU6",
        "colab_type": "text"
      },
      "cell_type": "markdown",
      "source": [
        "One hot encoding https://medium.com/hugo-ferreiras-blog/dealing-with-categorical-features-in-machine-learning-1bb70f07262d"
      ]
    },
    {
      "metadata": {
        "id": "-vWrYbu4ZjoK",
        "colab_type": "code",
        "colab": {}
      },
      "cell_type": "code",
      "source": [
        "def create_placeholders(n_inputs):\n",
        "    '''\n",
        "    n_inputs - A scalar containing the number of input features\n",
        "    '''\n",
        "    \n",
        "    X = tf.placeholder(tf.float32, shape = (None, n_inputs), name = 'X')\n",
        "    Y = tf.placeholder(tf.float32, shape = (None, 39), name = 'Y')\n",
        "    \n",
        "    return X, Y"
      ],
      "execution_count": 0,
      "outputs": []
    },
    {
      "metadata": {
        "id": "qDW4flIMZj2Z",
        "colab_type": "code",
        "colab": {}
      },
      "cell_type": "code",
      "source": [
        "def nn_model(X, n_neurons):\n",
        "    '''\n",
        "    X - input Tensor X\n",
        "    n_neurons - A scalar containing the number of neurons in each layer including both hidden layers and output layer \n",
        "    '''\n",
        "    hidden_layer_1 = fully_connected(X, n_neurons['hidden_layer_1'], scope = 'hidden_layer_1')\n",
        "    hidden_layer_2 = fully_connected(hidden_layer_1, n_neurons['hidden_layer_2'], scope = 'hidden_layer_2')\n",
        "    hidden_layer_3 = fully_connected(hidden_layer_2, n_neurons['hidden_layer_3'], scope = 'hidden_layer_3')\n",
        "    hidden_layer_4 = fully_connected(hidden_layer_3, n_neurons['hidden_layer_4'], scope = 'hidden_layer_4')\n",
        "    hidden_layer_5 = fully_connected(hidden_layer_4, n_neurons['hidden_layer_5'], scope = 'hidden_layer_5')\n",
        "    logits = fully_connected(hidden_layer_5, n_neurons['output_layer'], activation_fn = None, scope = 'output_layer')\n",
        "    \n",
        "    return logits"
      ],
      "execution_count": 0,
      "outputs": []
    },
    {
      "metadata": {
        "id": "u_SsLQgFZkEl",
        "colab_type": "code",
        "colab": {}
      },
      "cell_type": "code",
      "source": [
        "def compute_cost(labels, logits):\n",
        "    '''\n",
        "    labels - label tensor Y\n",
        "    logits - Tensor containing the values of the output layer before passing to the activation function\n",
        "    '''\n",
        "    \n",
        "    cross_entropy = tf.nn.sigmoid_cross_entropy_with_logits(labels = labels, logits = logits)\n",
        "    cost = tf.reduce_mean(cross_entropy, name = 'cost')\n",
        "    \n",
        "    return cost"
      ],
      "execution_count": 0,
      "outputs": []
    },
    {
      "metadata": {
        "id": "geKilSiXZ8OC",
        "colab_type": "code",
        "colab": {}
      },
      "cell_type": "code",
      "source": [
        "def optimizer(learning_rate, cost):\n",
        "    '''\n",
        "    learning_rate - A scalar value containing the learning rate for the backpropagation step\n",
        "    cost - Overall cost from the forward propagation step for one set of mini batch instance\n",
        "    '''\n",
        "    \n",
        "    optimizer = tf.train.AdamOptimizer(learning_rate)\n",
        "    training_op = optimizer.minimize(cost)\n",
        "    \n",
        "    return training_op"
      ],
      "execution_count": 0,
      "outputs": []
    },
    {
      "metadata": {
        "id": "yC5rBIyCZ8HH",
        "colab_type": "code",
        "colab": {}
      },
      "cell_type": "code",
      "source": [
        "def evaluate_model(logits, Y):\n",
        "    '''\n",
        "    logits - An array containing the values from the output layer\n",
        "    Y - An array containing the labels\n",
        "    '''\n",
        "    \n",
        "    #Compute the probability using the sigmoid function\n",
        "    y_pred = tf.nn.sigmoid(logits)\n",
        "    #Convert it to 0 or 1 class based on the probability and cast it to integer\n",
        "    y_pred = tf.cast(y_pred > 0.5, tf.int64)\n",
        "    #y_pred = tf.cast(tf.round(y_pred), tf.int64)\n",
        "    \n",
        "    #Create a boolean tensor by comparing the model prediction against the labels\n",
        "    correct_prediction = tf.equal(y_pred, tf.cast(Y, tf.int64))\n",
        "    #Compute the accuracy across all the instances\n",
        "    accuracy = tf.reduce_mean(tf.cast(correct_prediction, tf.float32))\n",
        "    \n",
        "    return accuracy"
      ],
      "execution_count": 0,
      "outputs": []
    },
    {
      "metadata": {
        "id": "lmUbpoT6aNnr",
        "colab_type": "code",
        "colab": {}
      },
      "cell_type": "code",
      "source": [
        "def train_model(n_neurons, n_inputs, learning_rate = 0.01, mini_batch_size = 32, n_epochs = 20, \n",
        "                print_cost = True, print_metrics = True):\n",
        "    \n",
        "    tf.reset_default_graph()\n",
        "    \n",
        "    #Declare and initialize the required variables\n",
        "    costs = []\n",
        "    \n",
        "    #Create Placeholder\n",
        "    X, Y = create_placeholders(n_inputs)\n",
        "    \n",
        "    #Create the nn_model\n",
        "    logits = nn_model(X, n_neurons) \n",
        "    \n",
        "    #Compute the cost\n",
        "    cost = compute_cost(Y, logits)\n",
        "    \n",
        "    #Optimize the cost using Gradient Descent Optimizer\n",
        "    training_op = optimizer(learning_rate, cost)\n",
        "    \n",
        "    #Evaluate the model\n",
        "    accuracy = evaluate_model(logits, Y)\n",
        "    \n",
        "    #Initialize the variables\n",
        "    init = tf.global_variables_initializer()\n",
        "    \n",
        "    #Create the Saver object\n",
        "    saver = tf.train.Saver()\n",
        "    \n",
        "    #Execute the Graph - Train the model\n",
        "    with tf.Session() as sess:\n",
        "        init.run()\n",
        "        \n",
        "        X_full_dataset, Y_full_dataset = load_dataset()\n",
        "        \n",
        "        for epoch in range(1, n_epochs + 1):\n",
        "            n_mini_batches = 0\n",
        "            epoch_cost = 0\n",
        "            total_time_taken_to_create_mini_batches = 0\n",
        "            \n",
        "            tic = time.time()\n",
        "            \n",
        "            shuffled_indices = get_shuffled_indices(0, 2)\n",
        "            for j in shuffled_indices:\n",
        "                X_mini = None\n",
        "                Y_mini = None\n",
        "                \n",
        "                X_mini = X_full_dataset[j]\n",
        "                Y_mini = Y_full_dataset[j]\n",
        "                \n",
        "                rmb_tic = time.time()\n",
        "                mini_batches = None\n",
        "                mini_batches = create_random_mini_batches(X_mini, Y_mini, mini_batch_size = mini_batch_size)\n",
        "                rmb_toc = time.time()\n",
        "                total_time_taken_to_create_mini_batches += (rmb_toc-rmb_tic)\n",
        "                            \n",
        "                for mini_batch in mini_batches:\n",
        "                    n_mini_batches += 1\n",
        "                    (X_mini_batch, Y_mini_batch) = mini_batch\n",
        "                    _, mini_batch_cost = sess.run([training_op, cost], feed_dict = {X: X_mini_batch, Y: Y_mini_batch})\n",
        "\n",
        "                    epoch_cost += mini_batch_cost\n",
        "            \n",
        "            toc = time.time()\n",
        "            training_time = ((toc-tic) - total_time_taken_to_create_mini_batches) * 1000\n",
        "            \n",
        "            if print_metrics:\n",
        "              print('Epoch', epoch, \n",
        "                  '| Mini Batch Creation:', total_time_taken_to_create_mini_batches * 1000, 'ms',\n",
        "                  '| Training Time:', training_time, 'ms',\n",
        "                  '| Total Time:', ((toc-tic) * 1000), 'ms')\n",
        "            \n",
        "            epoch_cost = epoch_cost / n_mini_batches\n",
        "            train_accuracy = accuracy.eval(feed_dict = {X: X_mini_batch, Y: Y_mini_batch})\n",
        "            #cval_accuracy = accuracy.eval(feed_dict = {X: X_cval, Y: Y_cval})\n",
        "            \n",
        "            if print_cost and epoch % 2 == 0:\n",
        "                print('At epoch', epoch, 'Cost =', epoch_cost, '| Train Accuracy =', train_accuracy)\n",
        "            \n",
        "            if epoch % 2 == 0:\n",
        "                costs.append(epoch_cost)\n",
        "            \n",
        "        saver_path = saver.save(sess, './my_model_final.ckpt')\n",
        "        \n",
        "    #print('Final - Train Accuracy =', train_accuracy, '| CVal Accuracy =', cval_accuracy)\n",
        "    print('Final - Train Accuracy =', train_accuracy)\n",
        "        \n",
        "    plt.plot(costs)\n",
        "    plt.xlabel('# of Epochs')\n",
        "    plt.ylabel('Training Error - Cost')\n",
        "    plt.title('Training Error Vs Epochs')\n",
        "    plt.show()\n",
        "    \n",
        "    return saver_path"
      ],
      "execution_count": 0,
      "outputs": []
    },
    {
      "metadata": {
        "id": "_ydJebypaN1n",
        "colab_type": "code",
        "outputId": "c661117b-a2c9-4fb3-c525-30ba37729a82",
        "colab": {
          "base_uri": "https://localhost:8080/",
          "height": 105
        }
      },
      "cell_type": "code",
      "source": [
        "n_neurons = {'hidden_layer_1': 50,\n",
        "             'hidden_layer_2': 50,\n",
        "             'hidden_layer_3': 50,\n",
        "             'hidden_layer_4': 50,\n",
        "             'hidden_layer_5': 30,\n",
        "             'output_layer': 39}\n",
        "n_input_features = int(256*256*3)\n",
        "train_model(n_neurons, n_input_features, learning_rate = 0.001, n_epochs = 10, mini_batch_size = 32,\n",
        "            print_cost = True, print_metrics = False)"
      ],
      "execution_count": 0,
      "outputs": [
        {
          "output_type": "stream",
          "text": [
            "WARNING:tensorflow:From /usr/local/lib/python3.6/dist-packages/tensorflow/python/framework/op_def_library.py:263: colocate_with (from tensorflow.python.framework.ops) is deprecated and will be removed in a future version.\n",
            "Instructions for updating:\n",
            "Colocations handled automatically by placer.\n",
            "Time taken to load the data set is 19796.764612197876 ms\n"
          ],
          "name": "stdout"
        }
      ]
    },
    {
      "metadata": {
        "id": "ZM5YnTRYaNii",
        "colab_type": "code",
        "colab": {}
      },
      "cell_type": "code",
      "source": [
        ""
      ],
      "execution_count": 0,
      "outputs": []
    },
    {
      "metadata": {
        "id": "9VkcTUQkaNdF",
        "colab_type": "code",
        "colab": {}
      },
      "cell_type": "code",
      "source": [
        ""
      ],
      "execution_count": 0,
      "outputs": []
    },
    {
      "metadata": {
        "id": "_qIxg2ykaNVf",
        "colab_type": "code",
        "colab": {}
      },
      "cell_type": "code",
      "source": [
        ""
      ],
      "execution_count": 0,
      "outputs": []
    },
    {
      "metadata": {
        "id": "Zlc-k5UssJAl",
        "colab_type": "code",
        "colab": {}
      },
      "cell_type": "code",
      "source": [
        "X_train, y_train = [],[]\n",
        "with open('media/tmp_dataset/train.txt','r') as file:\n",
        "  lines = file.readlines()\n",
        "  batch_size = 10000\n",
        "  for batch in range(1):\n",
        "    X_train, y_train = [],[]\n",
        "    for line in lines[batch*batch_size:batch*batch_size+batch_size]:\n",
        "      img = 'media/'+str(line.split()[0])\n",
        "      label = line.split()[1]\n",
        "      img = cv2.imread(img)\n",
        "      X_train.append(img)\n",
        "      y_train.append(label)\n",
        "      \n",
        "    X_train_new = np.array(X_train, dtype=np.uint8)\n",
        "    y_train_new = np.array(y_train, dtype=np.uint8)\n",
        "      \n",
        "    if batch == 0:\n",
        "      \n",
        "      with h5py.File('Data_train0.h5','w') as file_h5:\n",
        "        \n",
        "        file_h5.create_dataset(name='train_data', data=X_train_new, chunks=True, compression='gzip', maxshape=(None, 256, 256, 3))\n",
        "        file_h5.create_dataset(name='train_label', data=y_train_new, chunks=True, compression='gzip', maxshape=(None,))\n",
        "        \n",
        "    else:\n",
        "      \n",
        "      with h5py.File('Data_train0.h5','a') as file_h5:\n",
        "        \n",
        "        file_h5['train_data'].resize((file_h5['train_data'].shape[0] + batch_size), axis=0)\n",
        "        file_h5['train_data'][-batch_size:] = X_train_new\n",
        "\n",
        "        file_h5['train_label'].resize((file_h5['train_label'].shape[0] + batch_size), axis=0)\n",
        "        file_h5['train_label'][-batch_size:] = y_train_new"
      ],
      "execution_count": 0,
      "outputs": []
    },
    {
      "metadata": {
        "id": "S2N0kdMzsMmO",
        "colab_type": "code",
        "outputId": "2e7655f8-2929-42f4-bc39-2fa535013201",
        "colab": {
          "base_uri": "https://localhost:8080/",
          "height": 68
        }
      },
      "cell_type": "code",
      "source": [
        "with h5py.File('Data_train0.h5','r') as f:\n",
        "  print(list(f.keys()))\n",
        "  print(f['train_data'].shape)\n",
        "  print(f['train_label'].shape)"
      ],
      "execution_count": 0,
      "outputs": [
        {
          "output_type": "stream",
          "text": [
            "['train_data', 'train_label']\n",
            "(10000, 256, 256, 3)\n",
            "(10000,)\n"
          ],
          "name": "stdout"
        }
      ]
    },
    {
      "metadata": {
        "id": "ZYQFwle0s0HL",
        "colab_type": "code",
        "outputId": "edd3a685-fc6d-4d04-897c-eb4b57b96656",
        "colab": {
          "base_uri": "https://localhost:8080/",
          "height": 51
        }
      },
      "cell_type": "code",
      "source": [
        "with h5py.File('Data_train0.h5','r') as f:\n",
        "  \n",
        "  print(f['train_data'].shape)\n",
        "  \n",
        "  x_train = f['train_data'][:9000]\n",
        "  y_train = f['train_label'][:9000]\n",
        "  \n",
        "  x_test = f['train_data'][9000:10000]\n",
        "  y_test = f['train_label'][9000:10000]\n",
        "  \n",
        "  \n",
        "print(x_train.shape)"
      ],
      "execution_count": 0,
      "outputs": [
        {
          "output_type": "stream",
          "text": [
            "(10000, 256, 256, 3)\n",
            "(9000, 256, 256, 3)\n"
          ],
          "name": "stdout"
        }
      ]
    },
    {
      "metadata": {
        "id": "5paoyI_CtGOB",
        "colab_type": "code",
        "colab": {}
      },
      "cell_type": "code",
      "source": [
        "from keras.utils import print_summary, to_categorical\n",
        "y_train = to_categorical(y_train, 45)\n",
        "y_test = to_categorical(y_test, 45)"
      ],
      "execution_count": 0,
      "outputs": []
    },
    {
      "metadata": {
        "id": "9AAWZOkmuwck",
        "colab_type": "code",
        "colab": {}
      },
      "cell_type": "code",
      "source": [
        "def resize(data):\n",
        "  data_upscaled = np.zeros((data.shape[0], 32,32,3))\n",
        "  for i, img in enumerate(data):\n",
        "    large_dim = cv2.resize(img, dsize = (32,32), interpolation = cv2.INTER_CUBIC)\n",
        "    data_upscaled[i] = large_dim\n",
        "    \n",
        "  return data_upscaled\n",
        "\n",
        "x_train = resize(x_train).astype('float32')\n",
        "x_test = resize(x_test).astype('float32')\n",
        "x_train /= 255.0\n",
        "x_test /= 255.0"
      ],
      "execution_count": 0,
      "outputs": []
    },
    {
      "metadata": {
        "id": "LG5NI2PqeQ_3",
        "colab_type": "code",
        "colab": {}
      },
      "cell_type": "code",
      "source": [
        "from __future__ import print_function\n",
        "import keras\n",
        "import numpy as np\n",
        "import cv2\n",
        "from keras.datasets import cifar100\n",
        "from keras.models import Sequential\n",
        "from keras.layers import Dense, Dropout, Activation, Flatten\n",
        "from keras.layers import Conv2D, MaxPooling2D, ZeroPadding2D\n",
        "from keras.optimizers import SGD\n",
        "from keras.utils import print_summary, to_categorical\n",
        "import sys\n",
        "import os\n",
        "from keras.datasets import mnist\n",
        "from keras.models import Sequential, Model\n",
        "from keras.layers import Dense, Dropout, Activation, Flatten, BatchNormalization, merge, Input, concatenate, add\n",
        "from keras.layers import Conv2D, MaxPooling2D, ZeroPadding2D, AveragePooling2D, GlobalAveragePooling2D\n",
        "from keras.utils import np_utils\n",
        "from keras.models import model_from_json\n",
        "from keras import backend as K\n",
        "from keras.preprocessing import image\n",
        "from keras.optimizers import SGD\n",
        "from keras.utils.data_utils import get_file\n",
        "import random\n",
        "import os\n",
        "import itertools\n",
        "import cv2\n",
        "from sklearn.metrics import log_loss, confusion_matrix\n",
        "import numpy as np\n",
        "import tensorflow as tf\n",
        "import matplotlib.pyplot as plt\n",
        "%matplotlib inline"
      ],
      "execution_count": 0,
      "outputs": []
    },
    {
      "metadata": {
        "id": "pYyUT2uzu8QK",
        "colab_type": "code",
        "colab": {}
      },
      "cell_type": "code",
      "source": [
        "from keras.applications.resnet50 import resnet50\n",
        "identity_block, conv_block = resnet50.identity_block, resnet50.conv_block\n",
        "\n",
        "def CustomResNet50(include_top=True, input_tensor=None, input_shape=(32,32,3), pooling=None, classes=45):  \n",
        "    if input_tensor is None:\n",
        "        img_input = Input(shape=input_shape)\n",
        "    else:\n",
        "        if not K.is_keras_tensor(input_tensor):\n",
        "            img_input = Input(tensor=input_tensor, shape=input_shape)\n",
        "        else:\n",
        "            img_input = input_tensor\n",
        "    if K.image_data_format() == 'channels_last':\n",
        "        bn_axis = 3\n",
        "    else:\n",
        "        bn_axis = 1\n",
        "\n",
        "    x = ZeroPadding2D(padding=(2, 2), name='conv1_pad')(img_input)\n",
        "\n",
        "    x = resnet50.conv_block(x, 3, [32, 32, 64], stage=2, block='a')\n",
        "    x = resnet50.identity_block(x, 3, [32, 32, 64], stage=2, block='b')\n",
        "    x = resnet50.identity_block(x, 3, [32, 32, 64], stage=2, block='c')\n",
        "\n",
        "    x = resnet50.conv_block(x, 3, [64, 64, 256], stage=3, block='a', strides=(1, 1))\n",
        "    x = resnet50.identity_block(x, 3, [64, 64, 256], stage=3, block='b')\n",
        "    x = resnet50.identity_block(x, 3, [64, 64, 256], stage=3, block='c')\n",
        "\n",
        "    x = resnet50.conv_block(x, 3, [128, 128, 512], stage=4, block='a')\n",
        "    x = resnet50.identity_block(x, 3, [128, 128, 512], stage=4, block='b')\n",
        "    x = resnet50.identity_block(x, 3, [128, 128, 512], stage=4, block='c')\n",
        "    x = resnet50.identity_block(x, 3, [128, 128, 512], stage=4, block='d')\n",
        "\n",
        "    x = resnet50.conv_block(x, 3, [256, 256, 1024], stage=5, block='a')\n",
        "    x = resnet50.identity_block(x, 3, [256, 256, 1024], stage=5, block='b')\n",
        "    x = resnet50.identity_block(x, 3, [256, 256, 1024], stage=5, block='c')\n",
        "    x = resnet50.identity_block(x, 3, [256, 256, 1024], stage=5, block='d')\n",
        "    x = resnet50.identity_block(x, 3, [256, 256, 1024], stage=5, block='e')\n",
        "    x = resnet50.identity_block(x, 3, [256, 256, 1024], stage=5, block='f')\n",
        "\n",
        "    x = resnet50.conv_block(x, 3, [512, 512, 2048], stage=6, block='a')\n",
        "    x = resnet50.identity_block(x, 3, [512, 512, 2048], stage=6, block='b')\n",
        "    x = resnet50.identity_block(x, 3, [512, 512, 2048], stage=6, block='c')\n",
        "\n",
        "    x = AveragePooling2D((1, 1), name='avg_pool')(x)\n",
        "\n",
        "    if include_top:\n",
        "        x = Flatten()(x)\n",
        "        x = Dense(classes, activation='softmax', name='fc1000')(x)\n",
        "    else:\n",
        "        if pooling == 'avg':\n",
        "            x = GlobalAveragePooling2D()(x)\n",
        "        elif pooling == 'max':\n",
        "            x = GlobalMaxPooling2D()(x)\n",
        "\n",
        "    # Ensure that the model takes into account\n",
        "    # any potential predecessors of `input_tensor`.\n",
        "    if input_tensor is not None:\n",
        "        inputs = get_source_inputs(input_tensor)\n",
        "    else:\n",
        "        inputs = img_input\n",
        "    # Create model.\n",
        "    model = Model(inputs, x, name='resnet50')\n",
        "\n",
        "    return model"
      ],
      "execution_count": 0,
      "outputs": []
    },
    {
      "metadata": {
        "id": "L1RjghUNkX1g",
        "colab_type": "code",
        "outputId": "7ffc301e-8e7d-43bf-fdaa-5742f6bd0c1a",
        "colab": {
          "base_uri": "https://localhost:8080/",
          "height": 571
        }
      },
      "cell_type": "code",
      "source": [
        "def create_custom_resnet50():  \n",
        "  model = CustomResNet50(include_top=True, input_tensor=None, input_shape=(32,32,3), pooling=None, classes=100)\n",
        "\n",
        "  return model\n",
        "\n",
        "custom_resnet50_model = create_custom_resnet50()  \n",
        "custom_resnet50_model.compile(loss='categorical_crossentropy', optimizer='sgd', metrics=['acc', 'mse']) "
      ],
      "execution_count": 0,
      "outputs": [
        {
          "output_type": "error",
          "ename": "AttributeError",
          "evalue": "ignored",
          "traceback": [
            "\u001b[0;31m---------------------------------------------------------------------------\u001b[0m",
            "\u001b[0;31mAttributeError\u001b[0m                            Traceback (most recent call last)",
            "\u001b[0;32m<ipython-input-48-cdd3d9f27dee>\u001b[0m in \u001b[0;36m<module>\u001b[0;34m()\u001b[0m\n\u001b[1;32m      4\u001b[0m   \u001b[0;32mreturn\u001b[0m \u001b[0mmodel\u001b[0m\u001b[0;34m\u001b[0m\u001b[0;34m\u001b[0m\u001b[0m\n\u001b[1;32m      5\u001b[0m \u001b[0;34m\u001b[0m\u001b[0m\n\u001b[0;32m----> 6\u001b[0;31m \u001b[0mcustom_resnet50_model\u001b[0m \u001b[0;34m=\u001b[0m \u001b[0mcreate_custom_resnet50\u001b[0m\u001b[0;34m(\u001b[0m\u001b[0;34m)\u001b[0m\u001b[0;34m\u001b[0m\u001b[0;34m\u001b[0m\u001b[0m\n\u001b[0m\u001b[1;32m      7\u001b[0m \u001b[0mcustom_resnet50_model\u001b[0m\u001b[0;34m.\u001b[0m\u001b[0mcompile\u001b[0m\u001b[0;34m(\u001b[0m\u001b[0mloss\u001b[0m\u001b[0;34m=\u001b[0m\u001b[0;34m'categorical_crossentropy'\u001b[0m\u001b[0;34m,\u001b[0m \u001b[0moptimizer\u001b[0m\u001b[0;34m=\u001b[0m\u001b[0;34m'sgd'\u001b[0m\u001b[0;34m,\u001b[0m \u001b[0mmetrics\u001b[0m\u001b[0;34m=\u001b[0m\u001b[0;34m[\u001b[0m\u001b[0;34m'acc'\u001b[0m\u001b[0;34m,\u001b[0m \u001b[0;34m'mse'\u001b[0m\u001b[0;34m]\u001b[0m\u001b[0;34m)\u001b[0m\u001b[0;34m\u001b[0m\u001b[0;34m\u001b[0m\u001b[0m\n",
            "\u001b[0;32m<ipython-input-48-cdd3d9f27dee>\u001b[0m in \u001b[0;36mcreate_custom_resnet50\u001b[0;34m()\u001b[0m\n\u001b[1;32m      1\u001b[0m \u001b[0;32mdef\u001b[0m \u001b[0mcreate_custom_resnet50\u001b[0m\u001b[0;34m(\u001b[0m\u001b[0;34m)\u001b[0m\u001b[0;34m:\u001b[0m\u001b[0;34m\u001b[0m\u001b[0;34m\u001b[0m\u001b[0m\n\u001b[0;32m----> 2\u001b[0;31m   \u001b[0mmodel\u001b[0m \u001b[0;34m=\u001b[0m \u001b[0mCustomResNet50\u001b[0m\u001b[0;34m(\u001b[0m\u001b[0minclude_top\u001b[0m\u001b[0;34m=\u001b[0m\u001b[0;32mTrue\u001b[0m\u001b[0;34m,\u001b[0m \u001b[0minput_tensor\u001b[0m\u001b[0;34m=\u001b[0m\u001b[0;32mNone\u001b[0m\u001b[0;34m,\u001b[0m \u001b[0minput_shape\u001b[0m\u001b[0;34m=\u001b[0m\u001b[0;34m(\u001b[0m\u001b[0;36m32\u001b[0m\u001b[0;34m,\u001b[0m\u001b[0;36m32\u001b[0m\u001b[0;34m,\u001b[0m\u001b[0;36m3\u001b[0m\u001b[0;34m)\u001b[0m\u001b[0;34m,\u001b[0m \u001b[0mpooling\u001b[0m\u001b[0;34m=\u001b[0m\u001b[0;32mNone\u001b[0m\u001b[0;34m,\u001b[0m \u001b[0mclasses\u001b[0m\u001b[0;34m=\u001b[0m\u001b[0;36m100\u001b[0m\u001b[0;34m)\u001b[0m\u001b[0;34m\u001b[0m\u001b[0;34m\u001b[0m\u001b[0m\n\u001b[0m\u001b[1;32m      3\u001b[0m \u001b[0;34m\u001b[0m\u001b[0m\n\u001b[1;32m      4\u001b[0m   \u001b[0;32mreturn\u001b[0m \u001b[0mmodel\u001b[0m\u001b[0;34m\u001b[0m\u001b[0;34m\u001b[0m\u001b[0m\n\u001b[1;32m      5\u001b[0m \u001b[0;34m\u001b[0m\u001b[0m\n",
            "\u001b[0;32m<ipython-input-47-842f201cad3a>\u001b[0m in \u001b[0;36mCustomResNet50\u001b[0;34m(include_top, input_tensor, input_shape, pooling, classes)\u001b[0m\n\u001b[1;32m     18\u001b[0m     \u001b[0mx\u001b[0m \u001b[0;34m=\u001b[0m \u001b[0mZeroPadding2D\u001b[0m\u001b[0;34m(\u001b[0m\u001b[0mpadding\u001b[0m\u001b[0;34m=\u001b[0m\u001b[0;34m(\u001b[0m\u001b[0;36m2\u001b[0m\u001b[0;34m,\u001b[0m \u001b[0;36m2\u001b[0m\u001b[0;34m)\u001b[0m\u001b[0;34m,\u001b[0m \u001b[0mname\u001b[0m\u001b[0;34m=\u001b[0m\u001b[0;34m'conv1_pad'\u001b[0m\u001b[0;34m)\u001b[0m\u001b[0;34m(\u001b[0m\u001b[0mimg_input\u001b[0m\u001b[0;34m)\u001b[0m\u001b[0;34m\u001b[0m\u001b[0;34m\u001b[0m\u001b[0m\n\u001b[1;32m     19\u001b[0m \u001b[0;34m\u001b[0m\u001b[0m\n\u001b[0;32m---> 20\u001b[0;31m     \u001b[0mx\u001b[0m \u001b[0;34m=\u001b[0m \u001b[0mresnet50\u001b[0m\u001b[0;34m.\u001b[0m\u001b[0mconv_block\u001b[0m\u001b[0;34m(\u001b[0m\u001b[0mx\u001b[0m\u001b[0;34m,\u001b[0m \u001b[0;36m3\u001b[0m\u001b[0;34m,\u001b[0m \u001b[0;34m[\u001b[0m\u001b[0;36m32\u001b[0m\u001b[0;34m,\u001b[0m \u001b[0;36m32\u001b[0m\u001b[0;34m,\u001b[0m \u001b[0;36m64\u001b[0m\u001b[0;34m]\u001b[0m\u001b[0;34m,\u001b[0m \u001b[0mstage\u001b[0m\u001b[0;34m=\u001b[0m\u001b[0;36m2\u001b[0m\u001b[0;34m,\u001b[0m \u001b[0mblock\u001b[0m\u001b[0;34m=\u001b[0m\u001b[0;34m'a'\u001b[0m\u001b[0;34m)\u001b[0m\u001b[0;34m\u001b[0m\u001b[0;34m\u001b[0m\u001b[0m\n\u001b[0m\u001b[1;32m     21\u001b[0m     \u001b[0mx\u001b[0m \u001b[0;34m=\u001b[0m \u001b[0mresnet50\u001b[0m\u001b[0;34m.\u001b[0m\u001b[0midentity_block\u001b[0m\u001b[0;34m(\u001b[0m\u001b[0mx\u001b[0m\u001b[0;34m,\u001b[0m \u001b[0;36m3\u001b[0m\u001b[0;34m,\u001b[0m \u001b[0;34m[\u001b[0m\u001b[0;36m32\u001b[0m\u001b[0;34m,\u001b[0m \u001b[0;36m32\u001b[0m\u001b[0;34m,\u001b[0m \u001b[0;36m64\u001b[0m\u001b[0;34m]\u001b[0m\u001b[0;34m,\u001b[0m \u001b[0mstage\u001b[0m\u001b[0;34m=\u001b[0m\u001b[0;36m2\u001b[0m\u001b[0;34m,\u001b[0m \u001b[0mblock\u001b[0m\u001b[0;34m=\u001b[0m\u001b[0;34m'b'\u001b[0m\u001b[0;34m)\u001b[0m\u001b[0;34m\u001b[0m\u001b[0;34m\u001b[0m\u001b[0m\n\u001b[1;32m     22\u001b[0m     \u001b[0mx\u001b[0m \u001b[0;34m=\u001b[0m \u001b[0mresnet50\u001b[0m\u001b[0;34m.\u001b[0m\u001b[0midentity_block\u001b[0m\u001b[0;34m(\u001b[0m\u001b[0mx\u001b[0m\u001b[0;34m,\u001b[0m \u001b[0;36m3\u001b[0m\u001b[0;34m,\u001b[0m \u001b[0;34m[\u001b[0m\u001b[0;36m32\u001b[0m\u001b[0;34m,\u001b[0m \u001b[0;36m32\u001b[0m\u001b[0;34m,\u001b[0m \u001b[0;36m64\u001b[0m\u001b[0;34m]\u001b[0m\u001b[0;34m,\u001b[0m \u001b[0mstage\u001b[0m\u001b[0;34m=\u001b[0m\u001b[0;36m2\u001b[0m\u001b[0;34m,\u001b[0m \u001b[0mblock\u001b[0m\u001b[0;34m=\u001b[0m\u001b[0;34m'c'\u001b[0m\u001b[0;34m)\u001b[0m\u001b[0;34m\u001b[0m\u001b[0;34m\u001b[0m\u001b[0m\n",
            "\u001b[0;32m/usr/local/lib/python3.6/dist-packages/keras_applications/resnet50.py\u001b[0m in \u001b[0;36mconv_block\u001b[0;34m(input_tensor, kernel_size, filters, stage, block, strides)\u001b[0m\n\u001b[1;32m    105\u001b[0m     \"\"\"\n\u001b[1;32m    106\u001b[0m     \u001b[0mfilters1\u001b[0m\u001b[0;34m,\u001b[0m \u001b[0mfilters2\u001b[0m\u001b[0;34m,\u001b[0m \u001b[0mfilters3\u001b[0m \u001b[0;34m=\u001b[0m \u001b[0mfilters\u001b[0m\u001b[0;34m\u001b[0m\u001b[0;34m\u001b[0m\u001b[0m\n\u001b[0;32m--> 107\u001b[0;31m     \u001b[0;32mif\u001b[0m \u001b[0mbackend\u001b[0m\u001b[0;34m.\u001b[0m\u001b[0mimage_data_format\u001b[0m\u001b[0;34m(\u001b[0m\u001b[0;34m)\u001b[0m \u001b[0;34m==\u001b[0m \u001b[0;34m'channels_last'\u001b[0m\u001b[0;34m:\u001b[0m\u001b[0;34m\u001b[0m\u001b[0;34m\u001b[0m\u001b[0m\n\u001b[0m\u001b[1;32m    108\u001b[0m         \u001b[0mbn_axis\u001b[0m \u001b[0;34m=\u001b[0m \u001b[0;36m3\u001b[0m\u001b[0;34m\u001b[0m\u001b[0;34m\u001b[0m\u001b[0m\n\u001b[1;32m    109\u001b[0m     \u001b[0;32melse\u001b[0m\u001b[0;34m:\u001b[0m\u001b[0;34m\u001b[0m\u001b[0;34m\u001b[0m\u001b[0m\n",
            "\u001b[0;31mAttributeError\u001b[0m: 'NoneType' object has no attribute 'image_data_format'"
          ]
        }
      ]
    },
    {
      "metadata": {
        "id": "PauqJCiUvLSa",
        "colab_type": "code",
        "outputId": "56de89ca-9c9d-41b4-9883-6889a4ec07d5",
        "colab": {
          "base_uri": "https://localhost:8080/",
          "height": 762
        }
      },
      "cell_type": "code",
      "source": [
        "import matplotlib.pyplot as plt\n",
        "\n",
        "plt.figure(0)  \n",
        "plt.plot(vgg16.history['acc'],'r')  \n",
        "plt.plot(vgg16.history['val_acc'],'g')  \n",
        "plt.xticks(np.arange(0, 11, 2.0))  \n",
        "plt.rcParams['figure.figsize'] = (8, 6)  \n",
        "plt.xlabel(\"Num of Epochs\")  \n",
        "plt.ylabel(\"Accuracy\")  \n",
        "plt.title(\"Training Accuracy vs Validation Accuracy\")  \n",
        "plt.legend(['train','validation'])\n",
        "\n",
        "plt.figure(1)  \n",
        "plt.plot(vgg16.history['loss'],'r')  \n",
        "plt.plot(vgg16.history['val_loss'],'g')  \n",
        "plt.xticks(np.arange(0, 11, 2.0))  \n",
        "plt.rcParams['figure.figsize'] = (8, 6)  \n",
        "plt.xlabel(\"Num of Epochs\")  \n",
        "plt.ylabel(\"Loss\")  \n",
        "plt.title(\"Training Loss vs Validation Loss\")  \n",
        "plt.legend(['train','validation'])\n",
        "\n",
        "plt.show()  "
      ],
      "execution_count": 0,
      "outputs": [
        {
          "output_type": "display_data",
          "data": {
            "image/png": "[encoded data removed]",
            "text/plain": [
              "<Figure size 576x396 with 1 Axes>"
            ]
          },
          "metadata": {
            "tags": []
          }
        },
        {
          "output_type": "display_data",
          "data": {
            "image/png": "[encoded data removed]",
            "text/plain": [
              "<Figure size 576x432 with 1 Axes>"
            ]
          },
          "metadata": {
            "tags": []
          }
        }
      ]
    },
    {
      "metadata": {
        "id": "2S9lI-Xrvtqy",
        "colab_type": "code",
        "outputId": "996d8403-2b3a-4ef3-b404-076c50565e85",
        "colab": {
          "base_uri": "https://localhost:8080/",
          "height": 34
        }
      },
      "cell_type": "code",
      "source": [
        "vgg16_pred = vgg16_model.predict(x_test, batch_size=32, verbose=1)  \n",
        "vgg16_predicted = np.argmax(vgg16_pred, axis=1)  "
      ],
      "execution_count": 0,
      "outputs": [
        {
          "output_type": "stream",
          "text": [
            "2000/2000 [==============================] - 2s 1ms/step\n"
          ],
          "name": "stdout"
        }
      ]
    },
    {
      "metadata": {
        "id": "nWWzkZ4-wVvy",
        "colab_type": "code",
        "outputId": "f012fcf0-f17e-462d-d0bd-8ce64f4c679a",
        "colab": {
          "base_uri": "https://localhost:8080/",
          "height": 34
        }
      },
      "cell_type": "code",
      "source": [
        "y_test.shape"
      ],
      "execution_count": 0,
      "outputs": [
        {
          "output_type": "execute_result",
          "data": {
            "text/plain": [
              "(2000, 45)"
            ]
          },
          "metadata": {
            "tags": []
          },
          "execution_count": 25
        }
      ]
    },
    {
      "metadata": {
        "id": "irZokJYMv5E9",
        "colab_type": "code",
        "outputId": "716331e9-f7ac-45eb-c006-d9d353d16d35",
        "colab": {
          "base_uri": "https://localhost:8080/",
          "height": 830
        }
      },
      "cell_type": "code",
      "source": [
        "#Creamos la matriz de confusión\n",
        "from sklearn.metrics import confusion_matrix\n",
        "import pandas as pd\n",
        "import seaborn as sn\n",
        "\n",
        "vgg16_cm = confusion_matrix(np.argmax(y_test, axis=1), vgg16_predicted)\n",
        "print(vgg16_cm.shape)\n",
        "\n",
        "# Visualiamos la matriz de confusión\n",
        "vgg16_df_cm = pd.DataFrame(vgg16_cm, range(31), range(31))  \n",
        "plt.figure(figsize = (20,14))  \n",
        "sn.set(font_scale=1.4) #for label size  \n",
        "sn.heatmap(vgg16_df_cm, annot=True, annot_kws={\"size\": 12}) # font size  \n",
        "plt.show()  "
      ],
      "execution_count": 0,
      "outputs": [
        {
          "output_type": "stream",
          "text": [
            "(31, 31)\n"
          ],
          "name": "stdout"
        },
        {
          "output_type": "display_data",
          "data": {
            "image/png": "[encoded data removed]",
            "text/plain": [
              "<Figure size 1440x1008 with 2 Axes>"
            ]
          },
          "metadata": {
            "tags": []
          }
        }
      ]
    },
    {
      "metadata": {
        "id": "hMnAwFhTv8iF",
        "colab_type": "code",
        "outputId": "95326704-8c82-4008-a4a2-c0d18693c5af",
        "colab": {
          "base_uri": "https://localhost:8080/",
          "height": 717
        }
      },
      "cell_type": "code",
      "source": [
        "from sklearn.metrics import classification_report\n",
        "\n",
        "vgg16_report = classification_report(np.argmax(y_test, axis=1), vgg16_predicted)  \n",
        "\n",
        "print(vgg16_report)"
      ],
      "execution_count": 0,
      "outputs": [
        {
          "output_type": "stream",
          "text": [
            "              precision    recall  f1-score   support\n",
            "\n",
            "           0       0.00      0.00      0.00        19\n",
            "           1       0.00      0.00      0.00        38\n",
            "           2       0.00      0.00      0.00        18\n",
            "           3       0.00      0.00      0.00        25\n",
            "           4       0.00      0.00      0.00        18\n",
            "           5       0.00      0.00      0.00        17\n",
            "           6       0.00      0.00      0.00        15\n",
            "           7       0.00      0.00      0.00        20\n",
            "           8       0.00      0.00      0.00        28\n",
            "           9       0.00      0.00      0.00        31\n",
            "          10       0.00      0.00      0.00        40\n",
            "          11       0.00      0.00      0.00       120\n",
            "          12       0.00      0.00      0.00        34\n",
            "          13       0.00      0.00      0.00        11\n",
            "          14       0.00      0.00      0.00         4\n",
            "          15       0.00      0.00      0.00        11\n",
            "          16       0.00      0.00      0.00       119\n",
            "          17       0.00      0.00      0.00        22\n",
            "          18       0.00      0.00      0.00         3\n",
            "          19       0.00      0.00      0.00         3\n",
            "          20       0.00      0.00      0.00        17\n",
            "          21       0.00      0.00      0.00        20\n",
            "          22       0.00      0.00      0.00        41\n",
            "          23       0.00      0.00      0.00        48\n",
            "          24       0.00      0.00      0.00        87\n",
            "          25       0.36      1.00      0.53       728\n",
            "          26       0.00      0.00      0.00        86\n",
            "          27       0.00      0.00      0.00       170\n",
            "          28       0.00      0.00      0.00       185\n",
            "          29       0.00      0.00      0.00        17\n",
            "          30       0.00      0.00      0.00         5\n",
            "\n",
            "   micro avg       0.36      0.36      0.36      2000\n",
            "   macro avg       0.01      0.03      0.02      2000\n",
            "weighted avg       0.13      0.36      0.19      2000\n",
            "\n"
          ],
          "name": "stdout"
        },
        {
          "output_type": "stream",
          "text": [
            "/usr/local/lib/python3.6/dist-packages/sklearn/metrics/classification.py:1143: UndefinedMetricWarning: Precision and F-score are ill-defined and being set to 0.0 in labels with no predicted samples.\n",
            "  'precision', 'predicted', average, warn_for)\n"
          ],
          "name": "stderr"
        }
      ]
    },
    {
      "metadata": {
        "id": "2bUFcEgGw8sn",
        "colab_type": "code",
        "outputId": "e03f977f-5565-442e-98b9-fb403e579a8a",
        "colab": {
          "base_uri": "https://localhost:8080/",
          "height": 387
        }
      },
      "cell_type": "code",
      "source": [
        "imgplot = plt.imshow(x_train[1])  \n",
        "plt.show()  \n",
        "print('class for image 1: ' + str(np.argmax(y_test[1])))  \n",
        "print('predicted:         ' + str(vgg16_predicted[1]))  "
      ],
      "execution_count": 0,
      "outputs": [
        {
          "output_type": "display_data",
          "data": {
            "image/png": "[encoded data removed]",
            "text/plain": [
              "<Figure size 576x396 with 1 Axes>"
            ]
          },
          "metadata": {
            "tags": []
          }
        },
        {
          "output_type": "stream",
          "text": [
            "class for image 1: 27\n",
            "predicted:         25\n"
          ],
          "name": "stdout"
        }
      ]
    },
    {
      "metadata": {
        "id": "n0OVIDFvxCm6",
        "colab_type": "code",
        "colab": {}
      },
      "cell_type": "code",
      "source": [
        ""
      ],
      "execution_count": 0,
      "outputs": []
    }
  ]
}